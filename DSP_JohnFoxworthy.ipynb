{
 "cells": [
  {
   "cell_type": "code",
   "execution_count": 1,
   "metadata": {},
   "outputs": [],
   "source": [
    "import json\n",
    "import matplotlib.pyplot as plt\n",
    "import pandas as pd\n",
    "import numpy as np\n",
    "%matplotlib inline"
   ]
  },
  {
   "cell_type": "code",
   "execution_count": 2,
   "metadata": {},
   "outputs": [],
   "source": [
    "sample_json_df = pd.read_json('/Users/lacivert/2014_2017.json')"
   ]
  },
  {
   "cell_type": "code",
   "execution_count": 3,
   "metadata": {},
   "outputs": [],
   "source": [
    "#assign DataFrame\n",
    "df = pd.DataFrame(sample_json_df)"
   ]
  },
  {
   "cell_type": "code",
   "execution_count": 5,
   "metadata": {},
   "outputs": [
    {
     "data": {
      "text/plain": [
       "['1 mo', '1 yr', '10 yr', '30 yr', '6 mo']"
      ]
     },
     "execution_count": 5,
     "metadata": {},
     "output_type": "execute_result"
    }
   ],
   "source": [
    "#list column names\n",
    "list(df.columns.values)"
   ]
  },
  {
   "cell_type": "code",
   "execution_count": 6,
   "metadata": {},
   "outputs": [
    {
     "data": {
      "text/html": [
       "<div>\n",
       "<style scoped>\n",
       "    .dataframe tbody tr th:only-of-type {\n",
       "        vertical-align: middle;\n",
       "    }\n",
       "\n",
       "    .dataframe tbody tr th {\n",
       "        vertical-align: top;\n",
       "    }\n",
       "\n",
       "    .dataframe thead th {\n",
       "        text-align: right;\n",
       "    }\n",
       "</style>\n",
       "<table border=\"1\" class=\"dataframe\">\n",
       "  <thead>\n",
       "    <tr style=\"text-align: right;\">\n",
       "      <th></th>\n",
       "      <th>1 mo</th>\n",
       "      <th>1 yr</th>\n",
       "      <th>10 yr</th>\n",
       "      <th>30 yr</th>\n",
       "      <th>6 mo</th>\n",
       "    </tr>\n",
       "  </thead>\n",
       "  <tbody>\n",
       "    <tr>\n",
       "      <th>0</th>\n",
       "      <td>0.02</td>\n",
       "      <td>0.13</td>\n",
       "      <td>3.01</td>\n",
       "      <td>3.93</td>\n",
       "      <td>0.10</td>\n",
       "    </tr>\n",
       "    <tr>\n",
       "      <th>1</th>\n",
       "      <td>0.01</td>\n",
       "      <td>0.12</td>\n",
       "      <td>2.98</td>\n",
       "      <td>3.90</td>\n",
       "      <td>0.08</td>\n",
       "    </tr>\n",
       "    <tr>\n",
       "      <th>2</th>\n",
       "      <td>0.01</td>\n",
       "      <td>0.13</td>\n",
       "      <td>2.96</td>\n",
       "      <td>3.88</td>\n",
       "      <td>0.08</td>\n",
       "    </tr>\n",
       "    <tr>\n",
       "      <th>3</th>\n",
       "      <td>0.00</td>\n",
       "      <td>0.13</td>\n",
       "      <td>3.01</td>\n",
       "      <td>3.90</td>\n",
       "      <td>0.08</td>\n",
       "    </tr>\n",
       "    <tr>\n",
       "      <th>4</th>\n",
       "      <td>0.01</td>\n",
       "      <td>0.13</td>\n",
       "      <td>2.97</td>\n",
       "      <td>3.88</td>\n",
       "      <td>0.06</td>\n",
       "    </tr>\n",
       "  </tbody>\n",
       "</table>\n",
       "</div>"
      ],
      "text/plain": [
       "   1 mo  1 yr  10 yr  30 yr  6 mo\n",
       "0  0.02  0.13   3.01   3.93  0.10\n",
       "1  0.01  0.12   2.98   3.90  0.08\n",
       "2  0.01  0.13   2.96   3.88  0.08\n",
       "3  0.00  0.13   3.01   3.90  0.08\n",
       "4  0.01  0.13   2.97   3.88  0.06"
      ]
     },
     "execution_count": 6,
     "metadata": {},
     "output_type": "execute_result"
    }
   ],
   "source": [
    "df.head()"
   ]
  },
  {
   "cell_type": "code",
   "execution_count": 7,
   "metadata": {},
   "outputs": [
    {
     "data": {
      "text/html": [
       "<div>\n",
       "<style scoped>\n",
       "    .dataframe tbody tr th:only-of-type {\n",
       "        vertical-align: middle;\n",
       "    }\n",
       "\n",
       "    .dataframe tbody tr th {\n",
       "        vertical-align: top;\n",
       "    }\n",
       "\n",
       "    .dataframe thead th {\n",
       "        text-align: right;\n",
       "    }\n",
       "</style>\n",
       "<table border=\"1\" class=\"dataframe\">\n",
       "  <thead>\n",
       "    <tr style=\"text-align: right;\">\n",
       "      <th></th>\n",
       "      <th>1 mo</th>\n",
       "      <th>1 yr</th>\n",
       "      <th>10 yr</th>\n",
       "      <th>30 yr</th>\n",
       "      <th>6 mo</th>\n",
       "    </tr>\n",
       "  </thead>\n",
       "  <tbody>\n",
       "    <tr>\n",
       "      <th>990</th>\n",
       "      <td>1.24</td>\n",
       "      <td>1.71</td>\n",
       "      <td>2.35</td>\n",
       "      <td>2.68</td>\n",
       "      <td>1.48</td>\n",
       "    </tr>\n",
       "    <tr>\n",
       "      <th>991</th>\n",
       "      <td>1.26</td>\n",
       "      <td>1.70</td>\n",
       "      <td>2.39</td>\n",
       "      <td>2.74</td>\n",
       "      <td>1.51</td>\n",
       "    </tr>\n",
       "    <tr>\n",
       "      <th>992</th>\n",
       "      <td>1.25</td>\n",
       "      <td>1.71</td>\n",
       "      <td>2.46</td>\n",
       "      <td>2.82</td>\n",
       "      <td>1.51</td>\n",
       "    </tr>\n",
       "    <tr>\n",
       "      <th>993</th>\n",
       "      <td>1.22</td>\n",
       "      <td>1.72</td>\n",
       "      <td>2.49</td>\n",
       "      <td>2.88</td>\n",
       "      <td>1.51</td>\n",
       "    </tr>\n",
       "    <tr>\n",
       "      <th>994</th>\n",
       "      <td>1.21</td>\n",
       "      <td>1.73</td>\n",
       "      <td>2.48</td>\n",
       "      <td>2.84</td>\n",
       "      <td>1.54</td>\n",
       "    </tr>\n",
       "    <tr>\n",
       "      <th>995</th>\n",
       "      <td>1.15</td>\n",
       "      <td>1.73</td>\n",
       "      <td>2.48</td>\n",
       "      <td>2.83</td>\n",
       "      <td>1.54</td>\n",
       "    </tr>\n",
       "    <tr>\n",
       "      <th>996</th>\n",
       "      <td>1.24</td>\n",
       "      <td>1.75</td>\n",
       "      <td>2.47</td>\n",
       "      <td>2.82</td>\n",
       "      <td>1.52</td>\n",
       "    </tr>\n",
       "    <tr>\n",
       "      <th>997</th>\n",
       "      <td>1.18</td>\n",
       "      <td>1.75</td>\n",
       "      <td>2.42</td>\n",
       "      <td>2.75</td>\n",
       "      <td>1.53</td>\n",
       "    </tr>\n",
       "    <tr>\n",
       "      <th>998</th>\n",
       "      <td>1.19</td>\n",
       "      <td>1.76</td>\n",
       "      <td>2.43</td>\n",
       "      <td>2.75</td>\n",
       "      <td>1.54</td>\n",
       "    </tr>\n",
       "    <tr>\n",
       "      <th>999</th>\n",
       "      <td>1.28</td>\n",
       "      <td>1.76</td>\n",
       "      <td>2.40</td>\n",
       "      <td>2.74</td>\n",
       "      <td>1.53</td>\n",
       "    </tr>\n",
       "  </tbody>\n",
       "</table>\n",
       "</div>"
      ],
      "text/plain": [
       "     1 mo  1 yr  10 yr  30 yr  6 mo\n",
       "990  1.24  1.71   2.35   2.68  1.48\n",
       "991  1.26  1.70   2.39   2.74  1.51\n",
       "992  1.25  1.71   2.46   2.82  1.51\n",
       "993  1.22  1.72   2.49   2.88  1.51\n",
       "994  1.21  1.73   2.48   2.84  1.54\n",
       "995  1.15  1.73   2.48   2.83  1.54\n",
       "996  1.24  1.75   2.47   2.82  1.52\n",
       "997  1.18  1.75   2.42   2.75  1.53\n",
       "998  1.19  1.76   2.43   2.75  1.54\n",
       "999  1.28  1.76   2.40   2.74  1.53"
      ]
     },
     "execution_count": 7,
     "metadata": {},
     "output_type": "execute_result"
    }
   ],
   "source": [
    "df.tail(10)"
   ]
  },
  {
   "cell_type": "code",
   "execution_count": 8,
   "metadata": {},
   "outputs": [
    {
     "data": {
      "text/html": [
       "<div>\n",
       "<style scoped>\n",
       "    .dataframe tbody tr th:only-of-type {\n",
       "        vertical-align: middle;\n",
       "    }\n",
       "\n",
       "    .dataframe tbody tr th {\n",
       "        vertical-align: top;\n",
       "    }\n",
       "\n",
       "    .dataframe thead th {\n",
       "        text-align: right;\n",
       "    }\n",
       "</style>\n",
       "<table border=\"1\" class=\"dataframe\">\n",
       "  <thead>\n",
       "    <tr style=\"text-align: right;\">\n",
       "      <th></th>\n",
       "      <th>1 mo</th>\n",
       "      <th>1 yr</th>\n",
       "      <th>10 yr</th>\n",
       "      <th>30 yr</th>\n",
       "      <th>6 mo</th>\n",
       "    </tr>\n",
       "  </thead>\n",
       "  <tbody>\n",
       "    <tr>\n",
       "      <th>count</th>\n",
       "      <td>1000.000000</td>\n",
       "      <td>1000.000000</td>\n",
       "      <td>1000.000000</td>\n",
       "      <td>1000.00000</td>\n",
       "      <td>1000.000000</td>\n",
       "    </tr>\n",
       "    <tr>\n",
       "      <th>mean</th>\n",
       "      <td>0.292460</td>\n",
       "      <td>0.565450</td>\n",
       "      <td>2.210330</td>\n",
       "      <td>2.91582</td>\n",
       "      <td>0.440970</td>\n",
       "    </tr>\n",
       "    <tr>\n",
       "      <th>std</th>\n",
       "      <td>0.355624</td>\n",
       "      <td>0.435607</td>\n",
       "      <td>0.325434</td>\n",
       "      <td>0.35186</td>\n",
       "      <td>0.418463</td>\n",
       "    </tr>\n",
       "    <tr>\n",
       "      <th>min</th>\n",
       "      <td>0.000000</td>\n",
       "      <td>0.090000</td>\n",
       "      <td>1.370000</td>\n",
       "      <td>2.11000</td>\n",
       "      <td>0.030000</td>\n",
       "    </tr>\n",
       "    <tr>\n",
       "      <th>25%</th>\n",
       "      <td>0.020000</td>\n",
       "      <td>0.200000</td>\n",
       "      <td>1.990000</td>\n",
       "      <td>2.69000</td>\n",
       "      <td>0.080000</td>\n",
       "    </tr>\n",
       "    <tr>\n",
       "      <th>50%</th>\n",
       "      <td>0.170000</td>\n",
       "      <td>0.510000</td>\n",
       "      <td>2.260000</td>\n",
       "      <td>2.90000</td>\n",
       "      <td>0.370000</td>\n",
       "    </tr>\n",
       "    <tr>\n",
       "      <th>75%</th>\n",
       "      <td>0.460000</td>\n",
       "      <td>0.820000</td>\n",
       "      <td>2.420000</td>\n",
       "      <td>3.09000</td>\n",
       "      <td>0.630000</td>\n",
       "    </tr>\n",
       "    <tr>\n",
       "      <th>max</th>\n",
       "      <td>1.300000</td>\n",
       "      <td>1.760000</td>\n",
       "      <td>3.010000</td>\n",
       "      <td>3.93000</td>\n",
       "      <td>1.540000</td>\n",
       "    </tr>\n",
       "  </tbody>\n",
       "</table>\n",
       "</div>"
      ],
      "text/plain": [
       "              1 mo         1 yr        10 yr       30 yr         6 mo\n",
       "count  1000.000000  1000.000000  1000.000000  1000.00000  1000.000000\n",
       "mean      0.292460     0.565450     2.210330     2.91582     0.440970\n",
       "std       0.355624     0.435607     0.325434     0.35186     0.418463\n",
       "min       0.000000     0.090000     1.370000     2.11000     0.030000\n",
       "25%       0.020000     0.200000     1.990000     2.69000     0.080000\n",
       "50%       0.170000     0.510000     2.260000     2.90000     0.370000\n",
       "75%       0.460000     0.820000     2.420000     3.09000     0.630000\n",
       "max       1.300000     1.760000     3.010000     3.93000     1.540000"
      ]
     },
     "execution_count": 8,
     "metadata": {},
     "output_type": "execute_result"
    }
   ],
   "source": [
    "df.describe()"
   ]
  },
  {
   "cell_type": "code",
   "execution_count": 25,
   "metadata": {},
   "outputs": [
    {
     "data": {
      "text/plain": [
       "Text(0,0.5,'Yield Curve Rates')"
      ]
     },
     "execution_count": 25,
     "metadata": {},
     "output_type": "execute_result"
    },
    {
     "data": {
      "image/png": "[encoded data removed]",
      "text/plain": [
       "<matplotlib.figure.Figure at 0x11a24fa58>"
      ]
     },
     "metadata": {},
     "output_type": "display_data"
    }
   ],
   "source": [
    "df.boxplot()\n",
    "plt.xlabel('Maturity Points',color='green')\n",
    "plt.ylabel('Yield Curve Rates',color='green')"
   ]
  },
  {
   "cell_type": "code",
   "execution_count": 10,
   "metadata": {},
   "outputs": [
    {
     "data": {
      "text/plain": [
       "1 mo     1.30\n",
       "1 yr     1.67\n",
       "10 yr    1.64\n",
       "30 yr    1.82\n",
       "6 mo     1.51\n",
       "dtype: float64"
      ]
     },
     "execution_count": 10,
     "metadata": {},
     "output_type": "execute_result"
    }
   ],
   "source": [
    "#Difference between max and min with runtime function\n",
    "df.apply (lambda a: a.max() - a.min())"
   ]
  },
  {
   "cell_type": "code",
   "execution_count": 11,
   "metadata": {},
   "outputs": [
    {
     "data": {
      "text/plain": [
       "1 mo     0.44\n",
       "1 yr     0.62\n",
       "10 yr    0.43\n",
       "30 yr    0.40\n",
       "6 mo     0.55\n",
       "dtype: float64"
      ]
     },
     "execution_count": 11,
     "metadata": {},
     "output_type": "execute_result"
    }
   ],
   "source": [
    "#Difference between quantiles with runtime function\n",
    "df.apply (lambda b: b.quantile(q=0.75) - b.quantile(q=0.25))"
   ]
  },
  {
   "cell_type": "code",
   "execution_count": 4,
   "metadata": {},
   "outputs": [],
   "source": [
    "one_month, six_month, one_year, ten_year, thirty_year  = df.loc[:,'1 mo'], df.loc[:,'6 mo'], df.loc[:,'1 yr'], df.loc[:,'10 yr'], df.loc[:,'30 yr']"
   ]
  },
  {
   "cell_type": "code",
   "execution_count": 16,
   "metadata": {},
   "outputs": [
    {
     "data": {
      "text/plain": [
       "<matplotlib.legend.Legend at 0x1199cef28>"
      ]
     },
     "execution_count": 16,
     "metadata": {},
     "output_type": "execute_result"
    },
    {
     "data": {
      "image/png": "[encoded data removed]",
      "text/plain": [
       "<matplotlib.figure.Figure at 0x1199004a8>"
      ]
     },
     "metadata": {},
     "output_type": "display_data"
    }
   ],
   "source": [
    "plt.plot(one_month)\n",
    "plt.plot(six_month)\n",
    "plt.plot(one_year)\n",
    "plt.plot(ten_year)\n",
    "plt.plot(thirty_year)\n",
    "plt.xlabel('Market Open Days',color='olivedrab')\n",
    "plt.title('2014 to 2017 Daily Yield Curve Rates', color='blue')\n",
    "plt.ylabel('Yield Curve Rate Amounts', color='olivedrab')\n",
    "plt.legend()"
   ]
  },
  {
   "cell_type": "code",
   "execution_count": 6,
   "metadata": {
    "scrolled": true
   },
   "outputs": [
    {
     "data": {
      "text/plain": [
       "<matplotlib.legend.Legend at 0x118268da0>"
      ]
     },
     "execution_count": 6,
     "metadata": {},
     "output_type": "execute_result"
    },
    {
     "data": {
      "image/png": "[encoded data removed]",
      "text/plain": [
       "<matplotlib.figure.Figure at 0x118193588>"
      ]
     },
     "metadata": {},
     "output_type": "display_data"
    }
   ],
   "source": [
    "plt.hist(one_month, histtype='step', label='1 Month')\n",
    "plt.hist(six_month, histtype='step',label='6 Month')\n",
    "plt.hist(one_year, histtype='step',label='1 Year')\n",
    "plt.hist(ten_year, histtype='step',label='10 Year')\n",
    "plt.hist(thirty_year, histtype='step',label='30 Year')\n",
    "plt.title('Histogram',color='blue')\n",
    "plt.xlabel('2014 to 2017 Daily Yield Curve Rates',color='green')\n",
    "plt.ylabel('Number of Observations')\n",
    "plt.legend()"
   ]
  },
  {
   "cell_type": "code",
   "execution_count": 7,
   "metadata": {},
   "outputs": [
    {
     "data": {
      "text/plain": [
       "array([[0.12646862, 0.12646862],\n",
       "       [0.12646862, 0.12646862]])"
      ]
     },
     "execution_count": 7,
     "metadata": {},
     "output_type": "execute_result"
    }
   ],
   "source": [
    "#VAR(X) = COV(X,X)\n",
    "np.cov(one_month, one_month)"
   ]
  },
  {
   "cell_type": "code",
   "execution_count": 8,
   "metadata": {},
   "outputs": [
    {
     "data": {
      "text/plain": [
       "0.12634214840000002"
      ]
     },
     "execution_count": 8,
     "metadata": {},
     "output_type": "execute_result"
    }
   ],
   "source": [
    "np.var(one_month)"
   ]
  },
  {
   "cell_type": "code",
   "execution_count": 9,
   "metadata": {},
   "outputs": [],
   "source": [
    "#assigning covariances to short maturity cluster\n",
    "j, k, l = np.cov(one_month,six_month), np.cov(one_month,one_year), np.cov(six_month,one_year)"
   ]
  },
  {
   "cell_type": "code",
   "execution_count": 10,
   "metadata": {},
   "outputs": [],
   "source": [
    "#assigning covariance to longer maturity cluster\n",
    "m = np.cov(ten_year,thirty_year)"
   ]
  },
  {
   "cell_type": "code",
   "execution_count": 11,
   "metadata": {},
   "outputs": [],
   "source": [
    "#all maturity vectors that vary differently, i.e. not clustering\n",
    "t, u, v, w, x, y = np.cov(one_month, ten_year), np.cov(one_month, thirty_year), np.cov(six_month, ten_year), np.cov(six_month, thirty_year), np.cov(one_year, ten_year), np.cov(one_year, thirty_year)"
   ]
  },
  {
   "cell_type": "code",
   "execution_count": 21,
   "metadata": {},
   "outputs": [
    {
     "data": {
      "text/plain": [
       "<matplotlib.legend.Legend at 0x119ec9668>"
      ]
     },
     "execution_count": 21,
     "metadata": {},
     "output_type": "execute_result"
    },
    {
     "data": {
      "image/png": "[encoded data removed]",
      "text/plain": [
       "<matplotlib.figure.Figure at 0x119dd19b0>"
      ]
     },
     "metadata": {},
     "output_type": "display_data"
    }
   ],
   "source": [
    "plt.scatter(j[:1], j[-1:],label='1 month 6 month', color='blue')\n",
    "plt.scatter(k[:1], k[-1:],label='1 month 1 year', color='magenta')\n",
    "plt.scatter(l[:1], l[-1:],label='6 month 1 year', color='red')\n",
    "plt.scatter(m[:1],m[-1:], label='10 year 30 year', color= 'black',marker='*')\n",
    "plt.scatter(t[:1],t[-1:], label = '1 month 10 year', color='magenta', marker='x')\n",
    "plt.scatter(u[:1],u[-1:], label = '1 month 30 year', color='blue', marker='x')\n",
    "plt.scatter(v[:1],v[-1:], label = '6 month 10 year', color='red', marker='x')\n",
    "plt.scatter(w[:1],w[-1:], label = '6 month 30 year', color='orange', marker='x')\n",
    "plt.scatter(x[:1],x[-1:], label = '1 year 10 year', marker='x')\n",
    "plt.scatter(y[:1],y[-1:], label='1 year 30 year', marker = 'x')\n",
    "plt.title('Covariances',color='green')\n",
    "plt.axis([-0.40,0.40,-0.40,0.40])\n",
    "plt.xlabel('Abscissas', color='green')\n",
    "plt.ylabel('Ordinates', color='green')\n",
    "plt.legend()"
   ]
  },
  {
   "cell_type": "code",
   "execution_count": 12,
   "metadata": {},
   "outputs": [
    {
     "data": {
      "text/plain": [
       "(array([[0.12646862, 0.14589971],\n",
       "        [0.14589971, 0.17511147]]), array([[0.12646862, 0.1492096 ],\n",
       "        [0.1492096 , 0.18975375]]), array([[0.17511147, 0.18083495],\n",
       "        [0.18083495, 0.18975375]]))"
      ]
     },
     "execution_count": 12,
     "metadata": {},
     "output_type": "execute_result"
    }
   ],
   "source": [
    "#covariances short maturity cluster\n",
    "j,k,l"
   ]
  },
  {
   "cell_type": "code",
   "execution_count": 13,
   "metadata": {},
   "outputs": [
    {
     "data": {
      "text/plain": [
       "array([[0.1059071 , 0.10758246],\n",
       "       [0.10758246, 0.12380533]])"
      ]
     },
     "execution_count": 13,
     "metadata": {},
     "output_type": "execute_result"
    }
   ],
   "source": [
    "#covariances longer maturity cluster\n",
    "m"
   ]
  },
  {
   "cell_type": "code",
   "execution_count": 14,
   "metadata": {},
   "outputs": [
    {
     "data": {
      "text/plain": [
       "(array([[0.12646862, 0.00477957],\n",
       "        [0.00477957, 0.1059071 ]]), array([[ 0.12646862, -0.02493966],\n",
       "        [-0.02493966,  0.12380533]]), array([[ 0.17511147, -0.00475147],\n",
       "        [-0.00475147,  0.1059071 ]]), array([[ 0.17511147, -0.03911346],\n",
       "        [-0.03911346,  0.12380533]]), array([[ 0.18975375, -0.01052632],\n",
       "        [-0.01052632,  0.1059071 ]]), array([[ 0.18975375, -0.04733626],\n",
       "        [-0.04733626,  0.12380533]]))"
      ]
     },
     "execution_count": 14,
     "metadata": {},
     "output_type": "execute_result"
    }
   ],
   "source": [
    "#covariances of non - clustering maturity vectors\n",
    "t, u, v, w, x, y"
   ]
  },
  {
   "cell_type": "code",
   "execution_count": null,
   "metadata": {},
   "outputs": [],
   "source": []
  }
 ],
 "metadata": {
  "kernelspec": {
   "display_name": "Python 3",
   "language": "python",
   "name": "python3"
  },
  "language_info": {
   "codemirror_mode": {
    "name": "ipython",
    "version": 3
   },
   "file_extension": ".py",
   "mimetype": "text/x-python",
   "name": "python",
   "nbconvert_exporter": "python",
   "pygments_lexer": "ipython3",
   "version": "3.6.4"
  }
 },
 "nbformat": 4,
 "nbformat_minor": 2
}
