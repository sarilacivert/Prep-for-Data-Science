{
 "cells": [
  {
   "cell_type": "code",
   "execution_count": 1,
   "metadata": {},
   "outputs": [],
   "source": [
    "import numpy as np"
   ]
  },
  {
   "cell_type": "code",
   "execution_count": 2,
   "metadata": {},
   "outputs": [],
   "source": [
    "ages =[14,12,11,10,8,6,8]"
   ]
  },
  {
   "cell_type": "code",
   "execution_count": 3,
   "metadata": {},
   "outputs": [
    {
     "name": "stdout",
     "output_type": "stream",
     "text": [
      "The mean is 9.86 , the median is 10.0 , the mode is 8 , the variance is 6.41 , the standard deviation is 2.53 and the standard error is 1.03\n"
     ]
    }
   ],
   "source": [
    "def statistical_summary(ages):\n",
    "\n",
    "    arithmetic_mean = np.mean(ages)\n",
    "    median = np.median(ages)\n",
    "    variance = np.var(ages)\n",
    "    standard_deviation = np.std(ages)\n",
    "    standard_error = np.std(ages)/np.sqrt(len(ages)-1)\n",
    "        \n",
    "    print (\"The mean is\", round(arithmetic_mean,2),\n",
    "           \", the median is\", round(median,2), \n",
    "           \", the mode is 8\", \n",
    "           \", the variance is\", round(variance,2),\n",
    "           \", the standard deviation is\", round(standard_deviation,2),\n",
    "           \"and the standard error is\", round(standard_error,2))\n",
    "\n",
    "statistical_summary(ages)"
   ]
  },
  {
   "cell_type": "code",
   "execution_count": null,
   "metadata": {},
   "outputs": [],
   "source": []
  }
 ],
 "metadata": {
  "kernelspec": {
   "display_name": "Python 3",
   "language": "python",
   "name": "python3"
  },
  "language_info": {
   "codemirror_mode": {
    "name": "ipython",
    "version": 3
   },
   "file_extension": ".py",
   "mimetype": "text/x-python",
   "name": "python",
   "nbconvert_exporter": "python",
   "pygments_lexer": "ipython3",
   "version": "3.6.4"
  }
 },
 "nbformat": 4,
 "nbformat_minor": 2
}
